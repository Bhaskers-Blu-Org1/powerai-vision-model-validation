{
 "cells": [
  {
   "cell_type": "markdown",
   "metadata": {},
   "source": [
    "# PowerAI Vision Model Validation\n",
    "\n",
    "A PowerAI Vision model is built with testing and training within the PowerAI Vision UI. Additional manual testing can be done from within the UI.\n",
    "This notebook demonstrates a variety of metrics that can be collected using Python code and the API endpoint of a deployed model.  The test images\n",
    "are read from local directories and the results are shown in this notebook and also exported to CSV files.\n",
    "\n",
    "![](../doc/source/images/confusion_matrix.png)"
   ]
  },
  {
   "cell_type": "markdown",
   "metadata": {},
   "source": [
    "## Required Setup\n",
    "\n",
    "Edit the following cell to provide the API endpoint of your deployed PowerAI Vision model in the URL variable.\n",
    "Customize additional constants (e.g. set your input directory) as needed."
   ]
  },
  {
   "cell_type": "code",
   "execution_count": 6,
   "metadata": {},
   "outputs": [],
   "source": [
    "# Copy/paste API endpoint from your PowerAI Vision deployed model.\n",
    "URL = 'https://url/guid'\n",
    "\n",
    "# Provide an input directory. Its subdirectories contain test images.\n",
    "INPUT_DIR = '../data/test'  # Use subdir names as ground truth category names or category_map\n",
    "\n",
    "OUTPUT_PREFIX = 'result' # For output CSV file(s)\n",
    "\n",
    "# WARNING: If False, for convenience, we are not validating the certificate when using the PowerAI API endpoint.\n",
    "VERIFY_CERT = False\n",
    "\n",
    "# Map directory name of test data to a category name. If not mapped, the directory name will be used.\n",
    "category_map = {'directory_name': 'map-to-category-name',\n",
    "                'Aircraft': 'aircraft',\n",
    "                'Watercraft': 'watercraft',\n",
    "                'Land vehicle': 'land vehicle'}"
   ]
  },
  {
   "cell_type": "markdown",
   "metadata": {},
   "source": [
    "## Python Modules"
   ]
  },
  {
   "cell_type": "code",
   "execution_count": 7,
   "metadata": {},
   "outputs": [
    {
     "name": "stdout",
     "output_type": "stream",
     "text": [
      "Requirement already satisfied: pandas_ml==0.6.1 in /Users/markstur/.local/lib/python3.6/site-packages (0.6.1)\n",
      "Requirement already satisfied: pandas>=0.19.0 in /anaconda3/lib/python3.6/site-packages (from pandas_ml==0.6.1) (0.23.4)\n",
      "Requirement already satisfied: enum34 in /Users/markstur/.local/lib/python3.6/site-packages (from pandas_ml==0.6.1) (1.1.6)\n",
      "Requirement already satisfied: python-dateutil>=2.5.0 in /anaconda3/lib/python3.6/site-packages (from pandas>=0.19.0->pandas_ml==0.6.1) (2.7.3)\n",
      "Requirement already satisfied: pytz>=2011k in /anaconda3/lib/python3.6/site-packages (from pandas>=0.19.0->pandas_ml==0.6.1) (2018.5)\n",
      "Requirement already satisfied: numpy>=1.9.0 in /anaconda3/lib/python3.6/site-packages (from pandas>=0.19.0->pandas_ml==0.6.1) (1.14.5)\n",
      "Requirement already satisfied: six>=1.5 in /anaconda3/lib/python3.6/site-packages (from python-dateutil>=2.5.0->pandas>=0.19.0->pandas_ml==0.6.1) (1.11.0)\n",
      "\u001b[33mWARNING: You are using pip version 19.1, however version 19.1.1 is available.\n",
      "You should consider upgrading via the 'pip install --upgrade pip' command.\u001b[0m\n"
     ]
    }
   ],
   "source": [
    "!pip install --user pandas_ml==0.6.1"
   ]
  },
  {
   "cell_type": "markdown",
   "metadata": {},
   "source": [
    "## Imports"
   ]
  },
  {
   "cell_type": "code",
   "execution_count": 8,
   "metadata": {},
   "outputs": [],
   "source": [
    "from __future__ import print_function\n",
    "import collections\n",
    "import json\n",
    "import os\n",
    "import re\n",
    "import requests\n",
    "import time\n",
    "import logging\n",
    "import csv\n",
    "\n",
    "%matplotlib inline\n",
    "import matplotlib.pyplot as plt\n",
    "import seaborn\n",
    "import pandas\n",
    "from pandas_ml import ConfusionMatrix\n",
    "from sklearn.metrics import accuracy_score, f1_score, precision_score, recall_score, matthews_corrcoef"
   ]
  },
  {
   "cell_type": "markdown",
   "metadata": {},
   "source": [
    "## Logging"
   ]
  },
  {
   "cell_type": "code",
   "execution_count": 9,
   "metadata": {},
   "outputs": [
    {
     "name": "stderr",
     "output_type": "stream",
     "text": [
      "ERROR:logger:FYI -- Error logging is enabled.\n"
     ]
    }
   ],
   "source": [
    "# Use logger to control debug output levels.\n",
    "logging.basicConfig()\n",
    "logger = logging.getLogger(\"logger\")\n",
    "# Set desired logging to ERROR, INFO, WARNING, or DEBUG.\n",
    "logger.setLevel(\"ERROR\")\n",
    "logger.debug(\"FYI -- Debug logging is enabled.\")\n",
    "logger.info(\"FYI -- Info logging is enabled.\")\n",
    "logger.error(\"FYI -- Error logging is enabled.\")\n",
    "requests.packages.urllib3.disable_warnings()"
   ]
  },
  {
   "cell_type": "markdown",
   "metadata": {},
   "source": [
    "## Inference Functions"
   ]
  },
  {
   "cell_type": "code",
   "execution_count": 10,
   "metadata": {},
   "outputs": [],
   "source": [
    "# Use regular expression to only classify JPG or PNG images.\n",
    "file_matcher = re.compile(\"jpg$|jpeg$|png$\", re.IGNORECASE)\n",
    "\n",
    "#------------------------------------\n",
    "# classify files in directory and save results in dict\n",
    "# returns dict upon completion\n",
    "def classifyFiles(directory, normalize):\n",
    "    results = {}\n",
    "    totalFiles = 0\n",
    "    skippedFiles = 0\n",
    "    processedFiles = 0\n",
    "    classifiedFiles = 0\n",
    "    unclassifiedFiles = 0\n",
    "    problemFiles = 0\n",
    "\n",
    "    # To help track millisecond time for each inference\n",
    "    current_milli_time = lambda: int(round(time.time() * 1000))\n",
    "\n",
    "    logger.info(\"Classifying directory: {}\".format(directory))\n",
    "    for filename in os.listdir(directory):\n",
    "        totalFiles += 1\n",
    "        if file_matcher.search(filename):\n",
    "            logger.debug(\"classifying {}\".format(filename))\n",
    "\n",
    "            processedFiles += 1\n",
    "            filepath = os.path.join(directory, filename)\n",
    "            files = {'files': open(filepath, 'rb')}\n",
    "\n",
    "            startMilli = current_milli_time()\n",
    "            rsp = requests.post(URL, verify=False, auth=None, files=files)\n",
    "            stopMilli = current_milli_time()\n",
    "            duration = stopMilli - startMilli\n",
    "            logger.debug(\"classified {} in {} millis\".format(filename, duration))\n",
    "            if rspOk(rsp):\n",
    "                result = rsp.json()\n",
    "                logger.debug(\"json={}\".format(json.dumps(result)))\n",
    "                if \"classified\" in result:\n",
    "                    classification = result[\"classified\"]\n",
    "                    logger.debug(\"classification = {}\".format(json.dumps(classification)))\n",
    "                    for classname in classification.keys():\n",
    "                        confidence = classification[classname]\n",
    "\n",
    "                        if classname == \"negative\":\n",
    "                            unclassifiedFiles += 1\n",
    "                            if normalize:\n",
    "                                # translate 'negative' to 'non-classified' for better clarity\n",
    "                                classname = \"unclassified\"\n",
    "                                confidence = 0\n",
    "                        else:\n",
    "                            classifiedFiles += 1\n",
    "\n",
    "                        logger.debug(\"Saving result {}, {}, {}\".format(filename, classname, confidence))\n",
    "                        results[filename] = {\"filename\": filename,\n",
    "                                             \"classification\": classname,\n",
    "                                             \"confidence\": confidence,\n",
    "                                             \"duration\": duration}\n",
    "                else:\n",
    "                    problemFiles += 1\n",
    "                    results[filename] = {\"filename\": filename,\n",
    "                                         \"classification\": \"None\",\n",
    "                                         \"confidence\": \"\",\n",
    "                                         \"duration\": duration}\n",
    "                    logger.warning(\"No classification for {}\".format(filename))\n",
    "            else:\n",
    "                logger.error(\"ERROR\")\n",
    "                problemFiles += 1\n",
    "                logger.error(\"Error result from server for {}\".format(filename))\n",
    "        else:\n",
    "            skippedFiles += 1\n",
    "            logger.info(\"skipping non-image file {}\".format(filename))\n",
    "\n",
    "    logger.info(\"TotalFiles: {}, ProcessedFiles: {}, classifiedFiles: {}, unclassifiedFiles: {}, skippedFiles: {}, problemFiles: {}\".\n",
    "                 format(totalFiles, processedFiles, classifiedFiles, unclassifiedFiles, skippedFiles, problemFiles))\n",
    "    return results\n",
    "\n",
    "# ------------------------------------\n",
    "# Checks if result from Vision API succeeded\n",
    "# (Current API returns failure indication in the JSON body)\n",
    "def rspOk(rsp):\n",
    "    logger.debug(\"status_code: {}, OK={}.\".format(rsp.status_code, rsp.ok))\n",
    "\n",
    "    if rsp.ok:\n",
    "        try:\n",
    "            jsonBody = rsp.json()\n",
    "            if (\"result\" in jsonBody) and (jsonBody[\"result\"] == \"fail\"):\n",
    "                result = False\n",
    "                logger.debug(json.dumps(jsonBody, indent=2))\n",
    "            else:\n",
    "                result = True\n",
    "        except ValueError:\n",
    "            result = True\n",
    "            logger.error(\"good status_code, but no data\")\n",
    "    else:\n",
    "        result = False\n",
    "\n",
    "    return result\n",
    "\n",
    "# Use dirname to get ground truth category name from map (default to dirname)\n",
    "def get_ground_truth(dirname):\n",
    "    return category_map.get(dirname, dirname)\n"
   ]
  },
  {
   "cell_type": "markdown",
   "metadata": {},
   "source": [
    "## Main\n",
    "\n",
    "The main logic starts here and continues below.\n",
    "\n",
    "* Loop over the `INPUT_DIR` sub-directories.\n",
    "* Call the inference function on each image file.\n",
    "* Use the built truth and predicted lists for the rest (below).\n",
    "\n",
    "  * \"truth\" lists the classification we want for the image.\n",
    "  * \"predicted\" lists the classification we got from the inference call."
   ]
  },
  {
   "cell_type": "code",
   "execution_count": 11,
   "metadata": {},
   "outputs": [
    {
     "name": "stderr",
     "output_type": "stream",
     "text": [
      "/Users/markstur/.local/lib/python3.6/site-packages/pandas_ml/confusion_matrix/abstract.py:66: FutureWarning: \n",
      "Passing list-likes to .loc or [] with any missing label will raise\n",
      "KeyError in the future, you can use .reindex() as an alternative.\n",
      "\n",
      "See the documentation here:\n",
      "https://pandas.pydata.org/pandas-docs/stable/indexing.html#deprecate-loc-reindex-listlike\n",
      "  df = df.loc[idx, idx.copy()].fillna(0)  # if some columns or rows are missing\n"
     ]
    }
   ],
   "source": [
    "#\n",
    "# MAIN\n",
    "#\n",
    "\n",
    "truth = []\n",
    "predicted = []\n",
    "\n",
    "for dirname in os.listdir(INPUT_DIR):\n",
    "    if not os.path.isdir(os.path.join(INPUT_DIR, dirname)):\n",
    "        continue\n",
    "    \n",
    "    result_dict = classifyFiles(os.path.join(INPUT_DIR, dirname), False)\n",
    "    logger.debug(result_dict)\n",
    "    \n",
    "    for k,v in result_dict.items():\n",
    "        truth.append(get_ground_truth(dirname))  # Ground truth determined from dirname\n",
    "        predicted.append(v['classification'])  # The predicted classification\n",
    "        \n",
    "confusion_matrix = ConfusionMatrix(truth, predicted)"
   ]
  },
  {
   "cell_type": "markdown",
   "metadata": {},
   "source": [
    "## Plot the confusion matrix\n",
    "\n",
    "Using matplotlib and seaborn, we can graphically show the confusion matrix."
   ]
  },
  {
   "cell_type": "code",
   "execution_count": 12,
   "metadata": {},
   "outputs": [
    {
     "data": {
      "image/png": "[encoded data removed]",
      "text/plain": [
       "<matplotlib.figure.Figure at 0x112afc3c8>"
      ]
     },
     "metadata": {},
     "output_type": "display_data"
    }
   ],
   "source": [
    "confusion_matrix.plot(backend='seaborn', annot=True, linewidth=5, cmap='Blues');"
   ]
  },
  {
   "cell_type": "markdown",
   "metadata": {},
   "source": [
    "## Plot the normalized confusion matrix\n",
    "\n",
    "Setting `normalized=True` gives us values from 0 to 1. This may be a better representation when the wights are uneven."
   ]
  },
  {
   "cell_type": "code",
   "execution_count": 13,
   "metadata": {},
   "outputs": [
    {
     "name": "stderr",
     "output_type": "stream",
     "text": [
      "/Users/markstur/.local/lib/python3.6/site-packages/pandas_ml/confusion_matrix/abstract.py:115: RuntimeWarning: invalid value encountered in true_divide\n",
      "  a = a.astype('float') / a.sum(axis=1)[:, np.newaxis]\n"
     ]
    },
    {
     "data": {
      "image/png": "[encoded data removed]",
      "text/plain": [
       "<matplotlib.figure.Figure at 0x1196d8748>"
      ]
     },
     "metadata": {},
     "output_type": "display_data"
    }
   ],
   "source": [
    "confusion_matrix.plot(normalized=True, backend='seaborn', annot=True, linewidth=5, cmap='Greens');"
   ]
  },
  {
   "cell_type": "markdown",
   "metadata": {},
   "source": [
    "## Classification metrics"
   ]
  },
  {
   "cell_type": "code",
   "execution_count": 14,
   "metadata": {},
   "outputs": [],
   "source": [
    "# The handiest way to see the stats is with print_stats().\n",
    "# But since we're coding for CSV output we have prettier ways\n",
    "# to show the data below.\n",
    "\n",
    "# confusion_matrix.print_stats()"
   ]
  },
  {
   "cell_type": "markdown",
   "metadata": {},
   "source": [
    "### Collect the classification metrics by class and write them to a CSV"
   ]
  },
  {
   "cell_type": "code",
   "execution_count": 15,
   "metadata": {},
   "outputs": [
    {
     "name": "stderr",
     "output_type": "stream",
     "text": [
      "/Users/markstur/.local/lib/python3.6/site-packages/pandas_ml/confusion_matrix/stats.py:60: FutureWarning: supplying multiple axes to axis is deprecated and will be removed in a future version.\n",
      "  num = df[df > 1].dropna(axis=[0, 1], thresh=1).applymap(lambda n: choose(n, 2)).sum().sum() - np.float64(nis2 * njs2) / n2\n",
      "/Users/markstur/.local/lib/python3.6/site-packages/pandas_ml/confusion_matrix/bcm.py:191: RuntimeWarning: invalid value encountered in double_scalars\n",
      "  return(np.float64(self.TP) / self.P)\n",
      "/Users/markstur/.local/lib/python3.6/site-packages/pandas_ml/confusion_matrix/bcm.py:276: RuntimeWarning: invalid value encountered in double_scalars\n",
      "  return(np.float64(self.FN) / self.P)\n",
      "/Users/markstur/.local/lib/python3.6/site-packages/pandas_ml/confusion_matrix/bcm.py:302: RuntimeWarning: invalid value encountered in true_divide\n",
      "  * (self.TN + self.FP) * (self.TN + self.FN)))\n"
     ]
    },
    {
     "data": {
      "text/html": [
       "<style  type=\"text/css\" >\n",
       "</style>  \n",
       "<table id=\"T_8ebcf03a_87da_11e9_adb3_c4b301ca62f1\" > \n",
       "<thead>    <tr> \n",
       "        <th class=\"col_heading level0 col0\" >class</th> \n",
       "        <th class=\"col_heading level0 col1\" >Population</th> \n",
       "        <th class=\"col_heading level0 col2\" >P: Condition positive</th> \n",
       "        <th class=\"col_heading level0 col3\" >N: Condition negative</th> \n",
       "        <th class=\"col_heading level0 col4\" >Test outcome positive</th> \n",
       "        <th class=\"col_heading level0 col5\" >Test outcome negative</th> \n",
       "        <th class=\"col_heading level0 col6\" >TP: True Positive</th> \n",
       "        <th class=\"col_heading level0 col7\" >TN: True Negative</th> \n",
       "        <th class=\"col_heading level0 col8\" >FP: False Positive</th> \n",
       "        <th class=\"col_heading level0 col9\" >FN: False Negative</th> \n",
       "        <th class=\"col_heading level0 col10\" >TPR: (Sensitivity, hit rate, recall)</th> \n",
       "        <th class=\"col_heading level0 col11\" >TNR=SPC: (Specificity)</th> \n",
       "        <th class=\"col_heading level0 col12\" >PPV: Pos Pred Value (Precision)</th> \n",
       "        <th class=\"col_heading level0 col13\" >NPV: Neg Pred Value</th> \n",
       "        <th class=\"col_heading level0 col14\" >FPR: False-out</th> \n",
       "        <th class=\"col_heading level0 col15\" >FDR: False Discovery Rate</th> \n",
       "        <th class=\"col_heading level0 col16\" >FNR: Miss Rate</th> \n",
       "        <th class=\"col_heading level0 col17\" >ACC: Accuracy</th> \n",
       "        <th class=\"col_heading level0 col18\" >F1 score</th> \n",
       "        <th class=\"col_heading level0 col19\" >MCC: Matthews correlation coefficient</th> \n",
       "        <th class=\"col_heading level0 col20\" >Informedness</th> \n",
       "        <th class=\"col_heading level0 col21\" >Markedness</th> \n",
       "        <th class=\"col_heading level0 col22\" >Prevalence</th> \n",
       "        <th class=\"col_heading level0 col23\" >LR+: Positive likelihood ratio</th> \n",
       "        <th class=\"col_heading level0 col24\" >LR-: Negative likelihood ratio</th> \n",
       "        <th class=\"col_heading level0 col25\" >DOR: Diagnostic odds ratio</th> \n",
       "        <th class=\"col_heading level0 col26\" >FOR: False omission rate</th> \n",
       "    </tr></thead> \n",
       "<tbody>    <tr> \n",
       "        <td id=\"T_8ebcf03a_87da_11e9_adb3_c4b301ca62f1row0_col0\" class=\"data row0 col0\" >_negative_</td> \n",
       "        <td id=\"T_8ebcf03a_87da_11e9_adb3_c4b301ca62f1row0_col1\" class=\"data row0 col1\" >247</td> \n",
       "        <td id=\"T_8ebcf03a_87da_11e9_adb3_c4b301ca62f1row0_col2\" class=\"data row0 col2\" >0</td> \n",
       "        <td id=\"T_8ebcf03a_87da_11e9_adb3_c4b301ca62f1row0_col3\" class=\"data row0 col3\" >247</td> \n",
       "        <td id=\"T_8ebcf03a_87da_11e9_adb3_c4b301ca62f1row0_col4\" class=\"data row0 col4\" >85</td> \n",
       "        <td id=\"T_8ebcf03a_87da_11e9_adb3_c4b301ca62f1row0_col5\" class=\"data row0 col5\" >162</td> \n",
       "        <td id=\"T_8ebcf03a_87da_11e9_adb3_c4b301ca62f1row0_col6\" class=\"data row0 col6\" >0</td> \n",
       "        <td id=\"T_8ebcf03a_87da_11e9_adb3_c4b301ca62f1row0_col7\" class=\"data row0 col7\" >162</td> \n",
       "        <td id=\"T_8ebcf03a_87da_11e9_adb3_c4b301ca62f1row0_col8\" class=\"data row0 col8\" >85</td> \n",
       "        <td id=\"T_8ebcf03a_87da_11e9_adb3_c4b301ca62f1row0_col9\" class=\"data row0 col9\" >0</td> \n",
       "        <td id=\"T_8ebcf03a_87da_11e9_adb3_c4b301ca62f1row0_col10\" class=\"data row0 col10\" >nan</td> \n",
       "        <td id=\"T_8ebcf03a_87da_11e9_adb3_c4b301ca62f1row0_col11\" class=\"data row0 col11\" >0.65587</td> \n",
       "        <td id=\"T_8ebcf03a_87da_11e9_adb3_c4b301ca62f1row0_col12\" class=\"data row0 col12\" >0</td> \n",
       "        <td id=\"T_8ebcf03a_87da_11e9_adb3_c4b301ca62f1row0_col13\" class=\"data row0 col13\" >1</td> \n",
       "        <td id=\"T_8ebcf03a_87da_11e9_adb3_c4b301ca62f1row0_col14\" class=\"data row0 col14\" >0.34413</td> \n",
       "        <td id=\"T_8ebcf03a_87da_11e9_adb3_c4b301ca62f1row0_col15\" class=\"data row0 col15\" >1</td> \n",
       "        <td id=\"T_8ebcf03a_87da_11e9_adb3_c4b301ca62f1row0_col16\" class=\"data row0 col16\" >nan</td> \n",
       "        <td id=\"T_8ebcf03a_87da_11e9_adb3_c4b301ca62f1row0_col17\" class=\"data row0 col17\" >0.65587</td> \n",
       "        <td id=\"T_8ebcf03a_87da_11e9_adb3_c4b301ca62f1row0_col18\" class=\"data row0 col18\" >0</td> \n",
       "        <td id=\"T_8ebcf03a_87da_11e9_adb3_c4b301ca62f1row0_col19\" class=\"data row0 col19\" >nan</td> \n",
       "        <td id=\"T_8ebcf03a_87da_11e9_adb3_c4b301ca62f1row0_col20\" class=\"data row0 col20\" >nan</td> \n",
       "        <td id=\"T_8ebcf03a_87da_11e9_adb3_c4b301ca62f1row0_col21\" class=\"data row0 col21\" >0</td> \n",
       "        <td id=\"T_8ebcf03a_87da_11e9_adb3_c4b301ca62f1row0_col22\" class=\"data row0 col22\" >0</td> \n",
       "        <td id=\"T_8ebcf03a_87da_11e9_adb3_c4b301ca62f1row0_col23\" class=\"data row0 col23\" >nan</td> \n",
       "        <td id=\"T_8ebcf03a_87da_11e9_adb3_c4b301ca62f1row0_col24\" class=\"data row0 col24\" >nan</td> \n",
       "        <td id=\"T_8ebcf03a_87da_11e9_adb3_c4b301ca62f1row0_col25\" class=\"data row0 col25\" >nan</td> \n",
       "        <td id=\"T_8ebcf03a_87da_11e9_adb3_c4b301ca62f1row0_col26\" class=\"data row0 col26\" >0</td> \n",
       "    </tr>    <tr> \n",
       "        <td id=\"T_8ebcf03a_87da_11e9_adb3_c4b301ca62f1row1_col0\" class=\"data row1 col0\" >aircraft</td> \n",
       "        <td id=\"T_8ebcf03a_87da_11e9_adb3_c4b301ca62f1row1_col1\" class=\"data row1 col1\" >247</td> \n",
       "        <td id=\"T_8ebcf03a_87da_11e9_adb3_c4b301ca62f1row1_col2\" class=\"data row1 col2\" >89</td> \n",
       "        <td id=\"T_8ebcf03a_87da_11e9_adb3_c4b301ca62f1row1_col3\" class=\"data row1 col3\" >158</td> \n",
       "        <td id=\"T_8ebcf03a_87da_11e9_adb3_c4b301ca62f1row1_col4\" class=\"data row1 col4\" >55</td> \n",
       "        <td id=\"T_8ebcf03a_87da_11e9_adb3_c4b301ca62f1row1_col5\" class=\"data row1 col5\" >192</td> \n",
       "        <td id=\"T_8ebcf03a_87da_11e9_adb3_c4b301ca62f1row1_col6\" class=\"data row1 col6\" >23</td> \n",
       "        <td id=\"T_8ebcf03a_87da_11e9_adb3_c4b301ca62f1row1_col7\" class=\"data row1 col7\" >126</td> \n",
       "        <td id=\"T_8ebcf03a_87da_11e9_adb3_c4b301ca62f1row1_col8\" class=\"data row1 col8\" >32</td> \n",
       "        <td id=\"T_8ebcf03a_87da_11e9_adb3_c4b301ca62f1row1_col9\" class=\"data row1 col9\" >66</td> \n",
       "        <td id=\"T_8ebcf03a_87da_11e9_adb3_c4b301ca62f1row1_col10\" class=\"data row1 col10\" >0.258427</td> \n",
       "        <td id=\"T_8ebcf03a_87da_11e9_adb3_c4b301ca62f1row1_col11\" class=\"data row1 col11\" >0.797468</td> \n",
       "        <td id=\"T_8ebcf03a_87da_11e9_adb3_c4b301ca62f1row1_col12\" class=\"data row1 col12\" >0.418182</td> \n",
       "        <td id=\"T_8ebcf03a_87da_11e9_adb3_c4b301ca62f1row1_col13\" class=\"data row1 col13\" >0.65625</td> \n",
       "        <td id=\"T_8ebcf03a_87da_11e9_adb3_c4b301ca62f1row1_col14\" class=\"data row1 col14\" >0.202532</td> \n",
       "        <td id=\"T_8ebcf03a_87da_11e9_adb3_c4b301ca62f1row1_col15\" class=\"data row1 col15\" >0.581818</td> \n",
       "        <td id=\"T_8ebcf03a_87da_11e9_adb3_c4b301ca62f1row1_col16\" class=\"data row1 col16\" >0.741573</td> \n",
       "        <td id=\"T_8ebcf03a_87da_11e9_adb3_c4b301ca62f1row1_col17\" class=\"data row1 col17\" >0.603239</td> \n",
       "        <td id=\"T_8ebcf03a_87da_11e9_adb3_c4b301ca62f1row1_col18\" class=\"data row1 col18\" >0.319444</td> \n",
       "        <td id=\"T_8ebcf03a_87da_11e9_adb3_c4b301ca62f1row1_col19\" class=\"data row1 col19\" >0.0645011</td> \n",
       "        <td id=\"T_8ebcf03a_87da_11e9_adb3_c4b301ca62f1row1_col20\" class=\"data row1 col20\" >0.0558953</td> \n",
       "        <td id=\"T_8ebcf03a_87da_11e9_adb3_c4b301ca62f1row1_col21\" class=\"data row1 col21\" >0.0744318</td> \n",
       "        <td id=\"T_8ebcf03a_87da_11e9_adb3_c4b301ca62f1row1_col22\" class=\"data row1 col22\" >0.360324</td> \n",
       "        <td id=\"T_8ebcf03a_87da_11e9_adb3_c4b301ca62f1row1_col23\" class=\"data row1 col23\" >1.27598</td> \n",
       "        <td id=\"T_8ebcf03a_87da_11e9_adb3_c4b301ca62f1row1_col24\" class=\"data row1 col24\" >0.929909</td> \n",
       "        <td id=\"T_8ebcf03a_87da_11e9_adb3_c4b301ca62f1row1_col25\" class=\"data row1 col25\" >1.37216</td> \n",
       "        <td id=\"T_8ebcf03a_87da_11e9_adb3_c4b301ca62f1row1_col26\" class=\"data row1 col26\" >0.34375</td> \n",
       "    </tr>    <tr> \n",
       "        <td id=\"T_8ebcf03a_87da_11e9_adb3_c4b301ca62f1row2_col0\" class=\"data row2 col0\" >land vehicle</td> \n",
       "        <td id=\"T_8ebcf03a_87da_11e9_adb3_c4b301ca62f1row2_col1\" class=\"data row2 col1\" >247</td> \n",
       "        <td id=\"T_8ebcf03a_87da_11e9_adb3_c4b301ca62f1row2_col2\" class=\"data row2 col2\" >82</td> \n",
       "        <td id=\"T_8ebcf03a_87da_11e9_adb3_c4b301ca62f1row2_col3\" class=\"data row2 col3\" >165</td> \n",
       "        <td id=\"T_8ebcf03a_87da_11e9_adb3_c4b301ca62f1row2_col4\" class=\"data row2 col4\" >25</td> \n",
       "        <td id=\"T_8ebcf03a_87da_11e9_adb3_c4b301ca62f1row2_col5\" class=\"data row2 col5\" >222</td> \n",
       "        <td id=\"T_8ebcf03a_87da_11e9_adb3_c4b301ca62f1row2_col6\" class=\"data row2 col6\" >16</td> \n",
       "        <td id=\"T_8ebcf03a_87da_11e9_adb3_c4b301ca62f1row2_col7\" class=\"data row2 col7\" >156</td> \n",
       "        <td id=\"T_8ebcf03a_87da_11e9_adb3_c4b301ca62f1row2_col8\" class=\"data row2 col8\" >9</td> \n",
       "        <td id=\"T_8ebcf03a_87da_11e9_adb3_c4b301ca62f1row2_col9\" class=\"data row2 col9\" >66</td> \n",
       "        <td id=\"T_8ebcf03a_87da_11e9_adb3_c4b301ca62f1row2_col10\" class=\"data row2 col10\" >0.195122</td> \n",
       "        <td id=\"T_8ebcf03a_87da_11e9_adb3_c4b301ca62f1row2_col11\" class=\"data row2 col11\" >0.945455</td> \n",
       "        <td id=\"T_8ebcf03a_87da_11e9_adb3_c4b301ca62f1row2_col12\" class=\"data row2 col12\" >0.64</td> \n",
       "        <td id=\"T_8ebcf03a_87da_11e9_adb3_c4b301ca62f1row2_col13\" class=\"data row2 col13\" >0.702703</td> \n",
       "        <td id=\"T_8ebcf03a_87da_11e9_adb3_c4b301ca62f1row2_col14\" class=\"data row2 col14\" >0.0545455</td> \n",
       "        <td id=\"T_8ebcf03a_87da_11e9_adb3_c4b301ca62f1row2_col15\" class=\"data row2 col15\" >0.36</td> \n",
       "        <td id=\"T_8ebcf03a_87da_11e9_adb3_c4b301ca62f1row2_col16\" class=\"data row2 col16\" >0.804878</td> \n",
       "        <td id=\"T_8ebcf03a_87da_11e9_adb3_c4b301ca62f1row2_col17\" class=\"data row2 col17\" >0.696356</td> \n",
       "        <td id=\"T_8ebcf03a_87da_11e9_adb3_c4b301ca62f1row2_col18\" class=\"data row2 col18\" >0.299065</td> \n",
       "        <td id=\"T_8ebcf03a_87da_11e9_adb3_c4b301ca62f1row2_col19\" class=\"data row2 col19\" >0.21949</td> \n",
       "        <td id=\"T_8ebcf03a_87da_11e9_adb3_c4b301ca62f1row2_col20\" class=\"data row2 col20\" >0.140576</td> \n",
       "        <td id=\"T_8ebcf03a_87da_11e9_adb3_c4b301ca62f1row2_col21\" class=\"data row2 col21\" >0.342703</td> \n",
       "        <td id=\"T_8ebcf03a_87da_11e9_adb3_c4b301ca62f1row2_col22\" class=\"data row2 col22\" >0.331984</td> \n",
       "        <td id=\"T_8ebcf03a_87da_11e9_adb3_c4b301ca62f1row2_col23\" class=\"data row2 col23\" >3.57724</td> \n",
       "        <td id=\"T_8ebcf03a_87da_11e9_adb3_c4b301ca62f1row2_col24\" class=\"data row2 col24\" >0.851313</td> \n",
       "        <td id=\"T_8ebcf03a_87da_11e9_adb3_c4b301ca62f1row2_col25\" class=\"data row2 col25\" >4.20202</td> \n",
       "        <td id=\"T_8ebcf03a_87da_11e9_adb3_c4b301ca62f1row2_col26\" class=\"data row2 col26\" >0.297297</td> \n",
       "    </tr>    <tr> \n",
       "        <td id=\"T_8ebcf03a_87da_11e9_adb3_c4b301ca62f1row3_col0\" class=\"data row3 col0\" >watercraft</td> \n",
       "        <td id=\"T_8ebcf03a_87da_11e9_adb3_c4b301ca62f1row3_col1\" class=\"data row3 col1\" >247</td> \n",
       "        <td id=\"T_8ebcf03a_87da_11e9_adb3_c4b301ca62f1row3_col2\" class=\"data row3 col2\" >76</td> \n",
       "        <td id=\"T_8ebcf03a_87da_11e9_adb3_c4b301ca62f1row3_col3\" class=\"data row3 col3\" >171</td> \n",
       "        <td id=\"T_8ebcf03a_87da_11e9_adb3_c4b301ca62f1row3_col4\" class=\"data row3 col4\" >82</td> \n",
       "        <td id=\"T_8ebcf03a_87da_11e9_adb3_c4b301ca62f1row3_col5\" class=\"data row3 col5\" >165</td> \n",
       "        <td id=\"T_8ebcf03a_87da_11e9_adb3_c4b301ca62f1row3_col6\" class=\"data row3 col6\" >37</td> \n",
       "        <td id=\"T_8ebcf03a_87da_11e9_adb3_c4b301ca62f1row3_col7\" class=\"data row3 col7\" >126</td> \n",
       "        <td id=\"T_8ebcf03a_87da_11e9_adb3_c4b301ca62f1row3_col8\" class=\"data row3 col8\" >45</td> \n",
       "        <td id=\"T_8ebcf03a_87da_11e9_adb3_c4b301ca62f1row3_col9\" class=\"data row3 col9\" >39</td> \n",
       "        <td id=\"T_8ebcf03a_87da_11e9_adb3_c4b301ca62f1row3_col10\" class=\"data row3 col10\" >0.486842</td> \n",
       "        <td id=\"T_8ebcf03a_87da_11e9_adb3_c4b301ca62f1row3_col11\" class=\"data row3 col11\" >0.736842</td> \n",
       "        <td id=\"T_8ebcf03a_87da_11e9_adb3_c4b301ca62f1row3_col12\" class=\"data row3 col12\" >0.45122</td> \n",
       "        <td id=\"T_8ebcf03a_87da_11e9_adb3_c4b301ca62f1row3_col13\" class=\"data row3 col13\" >0.763636</td> \n",
       "        <td id=\"T_8ebcf03a_87da_11e9_adb3_c4b301ca62f1row3_col14\" class=\"data row3 col14\" >0.263158</td> \n",
       "        <td id=\"T_8ebcf03a_87da_11e9_adb3_c4b301ca62f1row3_col15\" class=\"data row3 col15\" >0.54878</td> \n",
       "        <td id=\"T_8ebcf03a_87da_11e9_adb3_c4b301ca62f1row3_col16\" class=\"data row3 col16\" >0.513158</td> \n",
       "        <td id=\"T_8ebcf03a_87da_11e9_adb3_c4b301ca62f1row3_col17\" class=\"data row3 col17\" >0.659919</td> \n",
       "        <td id=\"T_8ebcf03a_87da_11e9_adb3_c4b301ca62f1row3_col18\" class=\"data row3 col18\" >0.468354</td> \n",
       "        <td id=\"T_8ebcf03a_87da_11e9_adb3_c4b301ca62f1row3_col19\" class=\"data row3 col19\" >0.219226</td> \n",
       "        <td id=\"T_8ebcf03a_87da_11e9_adb3_c4b301ca62f1row3_col20\" class=\"data row3 col20\" >0.223684</td> \n",
       "        <td id=\"T_8ebcf03a_87da_11e9_adb3_c4b301ca62f1row3_col21\" class=\"data row3 col21\" >0.214856</td> \n",
       "        <td id=\"T_8ebcf03a_87da_11e9_adb3_c4b301ca62f1row3_col22\" class=\"data row3 col22\" >0.307692</td> \n",
       "        <td id=\"T_8ebcf03a_87da_11e9_adb3_c4b301ca62f1row3_col23\" class=\"data row3 col23\" >1.85</td> \n",
       "        <td id=\"T_8ebcf03a_87da_11e9_adb3_c4b301ca62f1row3_col24\" class=\"data row3 col24\" >0.696429</td> \n",
       "        <td id=\"T_8ebcf03a_87da_11e9_adb3_c4b301ca62f1row3_col25\" class=\"data row3 col25\" >2.65641</td> \n",
       "        <td id=\"T_8ebcf03a_87da_11e9_adb3_c4b301ca62f1row3_col26\" class=\"data row3 col26\" >0.236364</td> \n",
       "    </tr></tbody> \n",
       "</table> "
      ],
      "text/plain": [
       "<pandas.io.formats.style.Styler at 0x1197b90f0>"
      ]
     },
     "execution_count": 15,
     "metadata": {},
     "output_type": "execute_result"
    }
   ],
   "source": [
    "stats = confusion_matrix.stats()\n",
    "\n",
    "class_csv = OUTPUT_PREFIX + \"_class.csv\"\n",
    "logger.info(\"Writing stats by class to: \" + class_csv)\n",
    "\n",
    "with open(class_csv, \"w\") as outfile:\n",
    "    csvwriter = csv.writer(outfile)\n",
    "\n",
    "    first = True\n",
    "    for classification, v in stats['class'].items():\n",
    "        header = ['class']\n",
    "        row = [classification]\n",
    "        for x, y in v.items():\n",
    "            header.append(x)\n",
    "            row.append(y)\n",
    "        if first:\n",
    "            csvwriter.writerow(header)\n",
    "            first = False\n",
    "        csvwriter.writerow(row)\n",
    "\n",
    "# Read and show the CSV file.\n",
    "df = pandas.read_csv(class_csv)\n",
    "df.style.hide_index()  # Preview here. To see the whole thing open the CSV file."
   ]
  },
  {
   "cell_type": "code",
   "execution_count": 16,
   "metadata": {},
   "outputs": [
    {
     "data": {
      "text/html": [
       "<div>\n",
       "<style scoped>\n",
       "    .dataframe tbody tr th:only-of-type {\n",
       "        vertical-align: middle;\n",
       "    }\n",
       "\n",
       "    .dataframe tbody tr th {\n",
       "        vertical-align: top;\n",
       "    }\n",
       "\n",
       "    .dataframe thead th {\n",
       "        text-align: right;\n",
       "    }\n",
       "</style>\n",
       "<table border=\"1\" class=\"dataframe\">\n",
       "  <thead>\n",
       "    <tr style=\"text-align: right;\">\n",
       "      <th></th>\n",
       "      <th>0</th>\n",
       "      <th>1</th>\n",
       "      <th>2</th>\n",
       "      <th>3</th>\n",
       "    </tr>\n",
       "  </thead>\n",
       "  <tbody>\n",
       "    <tr>\n",
       "      <th>class</th>\n",
       "      <td>_negative_</td>\n",
       "      <td>aircraft</td>\n",
       "      <td>land vehicle</td>\n",
       "      <td>watercraft</td>\n",
       "    </tr>\n",
       "    <tr>\n",
       "      <th>Population</th>\n",
       "      <td>247</td>\n",
       "      <td>247</td>\n",
       "      <td>247</td>\n",
       "      <td>247</td>\n",
       "    </tr>\n",
       "    <tr>\n",
       "      <th>P: Condition positive</th>\n",
       "      <td>0</td>\n",
       "      <td>89</td>\n",
       "      <td>82</td>\n",
       "      <td>76</td>\n",
       "    </tr>\n",
       "    <tr>\n",
       "      <th>N: Condition negative</th>\n",
       "      <td>247</td>\n",
       "      <td>158</td>\n",
       "      <td>165</td>\n",
       "      <td>171</td>\n",
       "    </tr>\n",
       "    <tr>\n",
       "      <th>Test outcome positive</th>\n",
       "      <td>85</td>\n",
       "      <td>55</td>\n",
       "      <td>25</td>\n",
       "      <td>82</td>\n",
       "    </tr>\n",
       "    <tr>\n",
       "      <th>Test outcome negative</th>\n",
       "      <td>162</td>\n",
       "      <td>192</td>\n",
       "      <td>222</td>\n",
       "      <td>165</td>\n",
       "    </tr>\n",
       "    <tr>\n",
       "      <th>TP: True Positive</th>\n",
       "      <td>0</td>\n",
       "      <td>23</td>\n",
       "      <td>16</td>\n",
       "      <td>37</td>\n",
       "    </tr>\n",
       "    <tr>\n",
       "      <th>TN: True Negative</th>\n",
       "      <td>162</td>\n",
       "      <td>126</td>\n",
       "      <td>156</td>\n",
       "      <td>126</td>\n",
       "    </tr>\n",
       "    <tr>\n",
       "      <th>FP: False Positive</th>\n",
       "      <td>85</td>\n",
       "      <td>32</td>\n",
       "      <td>9</td>\n",
       "      <td>45</td>\n",
       "    </tr>\n",
       "    <tr>\n",
       "      <th>FN: False Negative</th>\n",
       "      <td>0</td>\n",
       "      <td>66</td>\n",
       "      <td>66</td>\n",
       "      <td>39</td>\n",
       "    </tr>\n",
       "    <tr>\n",
       "      <th>TPR: (Sensitivity, hit rate, recall)</th>\n",
       "      <td>NaN</td>\n",
       "      <td>0.258427</td>\n",
       "      <td>0.195122</td>\n",
       "      <td>0.486842</td>\n",
       "    </tr>\n",
       "    <tr>\n",
       "      <th>TNR=SPC: (Specificity)</th>\n",
       "      <td>0.65587</td>\n",
       "      <td>0.797468</td>\n",
       "      <td>0.945455</td>\n",
       "      <td>0.736842</td>\n",
       "    </tr>\n",
       "    <tr>\n",
       "      <th>PPV: Pos Pred Value (Precision)</th>\n",
       "      <td>0</td>\n",
       "      <td>0.418182</td>\n",
       "      <td>0.64</td>\n",
       "      <td>0.45122</td>\n",
       "    </tr>\n",
       "    <tr>\n",
       "      <th>NPV: Neg Pred Value</th>\n",
       "      <td>1</td>\n",
       "      <td>0.65625</td>\n",
       "      <td>0.702703</td>\n",
       "      <td>0.763636</td>\n",
       "    </tr>\n",
       "    <tr>\n",
       "      <th>FPR: False-out</th>\n",
       "      <td>0.34413</td>\n",
       "      <td>0.202532</td>\n",
       "      <td>0.0545455</td>\n",
       "      <td>0.263158</td>\n",
       "    </tr>\n",
       "    <tr>\n",
       "      <th>FDR: False Discovery Rate</th>\n",
       "      <td>1</td>\n",
       "      <td>0.581818</td>\n",
       "      <td>0.36</td>\n",
       "      <td>0.54878</td>\n",
       "    </tr>\n",
       "    <tr>\n",
       "      <th>FNR: Miss Rate</th>\n",
       "      <td>NaN</td>\n",
       "      <td>0.741573</td>\n",
       "      <td>0.804878</td>\n",
       "      <td>0.513158</td>\n",
       "    </tr>\n",
       "    <tr>\n",
       "      <th>ACC: Accuracy</th>\n",
       "      <td>0.65587</td>\n",
       "      <td>0.603239</td>\n",
       "      <td>0.696356</td>\n",
       "      <td>0.659919</td>\n",
       "    </tr>\n",
       "    <tr>\n",
       "      <th>F1 score</th>\n",
       "      <td>0</td>\n",
       "      <td>0.319444</td>\n",
       "      <td>0.299065</td>\n",
       "      <td>0.468354</td>\n",
       "    </tr>\n",
       "    <tr>\n",
       "      <th>MCC: Matthews correlation coefficient</th>\n",
       "      <td>NaN</td>\n",
       "      <td>0.0645011</td>\n",
       "      <td>0.21949</td>\n",
       "      <td>0.219226</td>\n",
       "    </tr>\n",
       "    <tr>\n",
       "      <th>Informedness</th>\n",
       "      <td>NaN</td>\n",
       "      <td>0.0558953</td>\n",
       "      <td>0.140576</td>\n",
       "      <td>0.223684</td>\n",
       "    </tr>\n",
       "    <tr>\n",
       "      <th>Markedness</th>\n",
       "      <td>0</td>\n",
       "      <td>0.0744318</td>\n",
       "      <td>0.342703</td>\n",
       "      <td>0.214856</td>\n",
       "    </tr>\n",
       "    <tr>\n",
       "      <th>Prevalence</th>\n",
       "      <td>0</td>\n",
       "      <td>0.360324</td>\n",
       "      <td>0.331984</td>\n",
       "      <td>0.307692</td>\n",
       "    </tr>\n",
       "    <tr>\n",
       "      <th>LR+: Positive likelihood ratio</th>\n",
       "      <td>NaN</td>\n",
       "      <td>1.27598</td>\n",
       "      <td>3.57724</td>\n",
       "      <td>1.85</td>\n",
       "    </tr>\n",
       "    <tr>\n",
       "      <th>LR-: Negative likelihood ratio</th>\n",
       "      <td>NaN</td>\n",
       "      <td>0.929909</td>\n",
       "      <td>0.851313</td>\n",
       "      <td>0.696429</td>\n",
       "    </tr>\n",
       "    <tr>\n",
       "      <th>DOR: Diagnostic odds ratio</th>\n",
       "      <td>NaN</td>\n",
       "      <td>1.37216</td>\n",
       "      <td>4.20202</td>\n",
       "      <td>2.65641</td>\n",
       "    </tr>\n",
       "    <tr>\n",
       "      <th>FOR: False omission rate</th>\n",
       "      <td>0</td>\n",
       "      <td>0.34375</td>\n",
       "      <td>0.297297</td>\n",
       "      <td>0.236364</td>\n",
       "    </tr>\n",
       "  </tbody>\n",
       "</table>\n",
       "</div>"
      ],
      "text/plain": [
       "                                                0          1             2  \\\n",
       "class                                  _negative_   aircraft  land vehicle   \n",
       "Population                                    247        247           247   \n",
       "P: Condition positive                           0         89            82   \n",
       "N: Condition negative                         247        158           165   \n",
       "Test outcome positive                          85         55            25   \n",
       "Test outcome negative                         162        192           222   \n",
       "TP: True Positive                               0         23            16   \n",
       "TN: True Negative                             162        126           156   \n",
       "FP: False Positive                             85         32             9   \n",
       "FN: False Negative                              0         66            66   \n",
       "TPR: (Sensitivity, hit rate, recall)          NaN   0.258427      0.195122   \n",
       "TNR=SPC: (Specificity)                    0.65587   0.797468      0.945455   \n",
       "PPV: Pos Pred Value (Precision)                 0   0.418182          0.64   \n",
       "NPV: Neg Pred Value                             1    0.65625      0.702703   \n",
       "FPR: False-out                            0.34413   0.202532     0.0545455   \n",
       "FDR: False Discovery Rate                       1   0.581818          0.36   \n",
       "FNR: Miss Rate                                NaN   0.741573      0.804878   \n",
       "ACC: Accuracy                             0.65587   0.603239      0.696356   \n",
       "F1 score                                        0   0.319444      0.299065   \n",
       "MCC: Matthews correlation coefficient         NaN  0.0645011       0.21949   \n",
       "Informedness                                  NaN  0.0558953      0.140576   \n",
       "Markedness                                      0  0.0744318      0.342703   \n",
       "Prevalence                                      0   0.360324      0.331984   \n",
       "LR+: Positive likelihood ratio                NaN    1.27598       3.57724   \n",
       "LR-: Negative likelihood ratio                NaN   0.929909      0.851313   \n",
       "DOR: Diagnostic odds ratio                    NaN    1.37216       4.20202   \n",
       "FOR: False omission rate                        0    0.34375      0.297297   \n",
       "\n",
       "                                                3  \n",
       "class                                  watercraft  \n",
       "Population                                    247  \n",
       "P: Condition positive                          76  \n",
       "N: Condition negative                         171  \n",
       "Test outcome positive                          82  \n",
       "Test outcome negative                         165  \n",
       "TP: True Positive                              37  \n",
       "TN: True Negative                             126  \n",
       "FP: False Positive                             45  \n",
       "FN: False Negative                             39  \n",
       "TPR: (Sensitivity, hit rate, recall)     0.486842  \n",
       "TNR=SPC: (Specificity)                   0.736842  \n",
       "PPV: Pos Pred Value (Precision)           0.45122  \n",
       "NPV: Neg Pred Value                      0.763636  \n",
       "FPR: False-out                           0.263158  \n",
       "FDR: False Discovery Rate                 0.54878  \n",
       "FNR: Miss Rate                           0.513158  \n",
       "ACC: Accuracy                            0.659919  \n",
       "F1 score                                 0.468354  \n",
       "MCC: Matthews correlation coefficient    0.219226  \n",
       "Informedness                             0.223684  \n",
       "Markedness                               0.214856  \n",
       "Prevalence                               0.307692  \n",
       "LR+: Positive likelihood ratio               1.85  \n",
       "LR-: Negative likelihood ratio           0.696429  \n",
       "DOR: Diagnostic odds ratio                2.65641  \n",
       "FOR: False omission rate                 0.236364  "
      ]
     },
     "execution_count": 16,
     "metadata": {},
     "output_type": "execute_result"
    }
   ],
   "source": [
    "df.T  # Same data as above, but transposed for a better view of the metrics (perhaps)."
   ]
  },
  {
   "cell_type": "markdown",
   "metadata": {},
   "source": [
    "## Calculate the overall metrics\n",
    "\n",
    "The TP, TN, FP, and FN can be summed using the confusion matrix data frame."
   ]
  },
  {
   "cell_type": "code",
   "execution_count": 17,
   "metadata": {},
   "outputs": [
    {
     "data": {
      "text/html": [
       "<div>\n",
       "<style scoped>\n",
       "    .dataframe tbody tr th:only-of-type {\n",
       "        vertical-align: middle;\n",
       "    }\n",
       "\n",
       "    .dataframe tbody tr th {\n",
       "        vertical-align: top;\n",
       "    }\n",
       "\n",
       "    .dataframe thead th {\n",
       "        text-align: right;\n",
       "    }\n",
       "</style>\n",
       "<table border=\"1\" class=\"dataframe\">\n",
       "  <thead>\n",
       "    <tr style=\"text-align: right;\">\n",
       "      <th></th>\n",
       "      <th>TP: True Positive</th>\n",
       "      <th>TN: True Negative</th>\n",
       "      <th>FP: False Positive</th>\n",
       "      <th>FN: False Negative</th>\n",
       "    </tr>\n",
       "  </thead>\n",
       "  <tbody>\n",
       "    <tr>\n",
       "      <th>sum</th>\n",
       "      <td>76</td>\n",
       "      <td>570</td>\n",
       "      <td>171</td>\n",
       "      <td>171</td>\n",
       "    </tr>\n",
       "  </tbody>\n",
       "</table>\n",
       "</div>"
      ],
      "text/plain": [
       "     TP: True Positive  TN: True Negative  FP: False Positive  \\\n",
       "sum                 76                570                 171   \n",
       "\n",
       "     FN: False Negative  \n",
       "sum                 171  "
      ]
     },
     "execution_count": 17,
     "metadata": {},
     "output_type": "execute_result"
    }
   ],
   "source": [
    "# Get total TP, TN, FP, FN.\n",
    "tp_tn_fp_fn = df.agg({'TP: True Positive': ['sum'],\n",
    "                      'TN: True Negative': ['sum'],\n",
    "                      'FP: False Positive': ['sum'],\n",
    "                      'FN: False Negative': ['sum']})\n",
    "tp_tn_fp_fn"
   ]
  },
  {
   "cell_type": "markdown",
   "metadata": {},
   "source": [
    "## Use count to calculate the number of classes"
   ]
  },
  {
   "cell_type": "code",
   "execution_count": 18,
   "metadata": {},
   "outputs": [
    {
     "data": {
      "text/html": [
       "<div>\n",
       "<style scoped>\n",
       "    .dataframe tbody tr th:only-of-type {\n",
       "        vertical-align: middle;\n",
       "    }\n",
       "\n",
       "    .dataframe tbody tr th {\n",
       "        vertical-align: top;\n",
       "    }\n",
       "\n",
       "    .dataframe thead th {\n",
       "        text-align: right;\n",
       "    }\n",
       "</style>\n",
       "<table border=\"1\" class=\"dataframe\">\n",
       "  <thead>\n",
       "    <tr style=\"text-align: right;\">\n",
       "      <th></th>\n",
       "      <th>class</th>\n",
       "    </tr>\n",
       "  </thead>\n",
       "  <tbody>\n",
       "    <tr>\n",
       "      <th>count</th>\n",
       "      <td>4</td>\n",
       "    </tr>\n",
       "  </tbody>\n",
       "</table>\n",
       "</div>"
      ],
      "text/plain": [
       "       class\n",
       "count      4"
      ]
     },
     "execution_count": 18,
     "metadata": {},
     "output_type": "execute_result"
    }
   ],
   "source": [
    "# Get total class count.\n",
    "class_count = df.agg({'class': ['count']})\n",
    "class_count"
   ]
  },
  {
   "cell_type": "markdown",
   "metadata": {},
   "source": [
    "## Use max to calculate the number of images classified"
   ]
  },
  {
   "cell_type": "code",
   "execution_count": 19,
   "metadata": {},
   "outputs": [
    {
     "data": {
      "text/html": [
       "<div>\n",
       "<style scoped>\n",
       "    .dataframe tbody tr th:only-of-type {\n",
       "        vertical-align: middle;\n",
       "    }\n",
       "\n",
       "    .dataframe tbody tr th {\n",
       "        vertical-align: top;\n",
       "    }\n",
       "\n",
       "    .dataframe thead th {\n",
       "        text-align: right;\n",
       "    }\n",
       "</style>\n",
       "<table border=\"1\" class=\"dataframe\">\n",
       "  <thead>\n",
       "    <tr style=\"text-align: right;\">\n",
       "      <th></th>\n",
       "      <th>Population</th>\n",
       "    </tr>\n",
       "  </thead>\n",
       "  <tbody>\n",
       "    <tr>\n",
       "      <th>max</th>\n",
       "      <td>247</td>\n",
       "    </tr>\n",
       "  </tbody>\n",
       "</table>\n",
       "</div>"
      ],
      "text/plain": [
       "     Population\n",
       "max         247"
      ]
     },
     "execution_count": 19,
     "metadata": {},
     "output_type": "execute_result"
    }
   ],
   "source": [
    "# Get total population.\n",
    "population = df.agg({'Population': ['max']})\n",
    "population"
   ]
  },
  {
   "cell_type": "markdown",
   "metadata": {},
   "source": [
    "## pandas-ml provides some overall metrics in a classification report\n",
    "\n",
    "This is the easy way, but it only offers weighted metrics and does not include MCC."
   ]
  },
  {
   "cell_type": "code",
   "execution_count": 20,
   "metadata": {},
   "outputs": [
    {
     "name": "stderr",
     "output_type": "stream",
     "text": [
      "/Users/markstur/.local/lib/python3.6/site-packages/pandas_ml/confusion_matrix/bcm.py:191: RuntimeWarning: invalid value encountered in double_scalars\n",
      "  return(np.float64(self.TP) / self.P)\n"
     ]
    },
    {
     "data": {
      "text/html": [
       "<div>\n",
       "<style scoped>\n",
       "    .dataframe tbody tr th:only-of-type {\n",
       "        vertical-align: middle;\n",
       "    }\n",
       "\n",
       "    .dataframe tbody tr th {\n",
       "        vertical-align: top;\n",
       "    }\n",
       "\n",
       "    .dataframe thead th {\n",
       "        text-align: right;\n",
       "    }\n",
       "</style>\n",
       "<table border=\"1\" class=\"dataframe\">\n",
       "  <thead>\n",
       "    <tr style=\"text-align: right;\">\n",
       "      <th></th>\n",
       "      <th>precision</th>\n",
       "      <th>recall</th>\n",
       "      <th>F1_score</th>\n",
       "      <th>support</th>\n",
       "    </tr>\n",
       "    <tr>\n",
       "      <th>Classes</th>\n",
       "      <th></th>\n",
       "      <th></th>\n",
       "      <th></th>\n",
       "      <th></th>\n",
       "    </tr>\n",
       "  </thead>\n",
       "  <tbody>\n",
       "    <tr>\n",
       "      <th>_negative_</th>\n",
       "      <td>0</td>\n",
       "      <td>NaN</td>\n",
       "      <td>0</td>\n",
       "      <td>0</td>\n",
       "    </tr>\n",
       "    <tr>\n",
       "      <th>aircraft</th>\n",
       "      <td>0.418182</td>\n",
       "      <td>0.258427</td>\n",
       "      <td>0.319444</td>\n",
       "      <td>89</td>\n",
       "    </tr>\n",
       "    <tr>\n",
       "      <th>land vehicle</th>\n",
       "      <td>0.64</td>\n",
       "      <td>0.195122</td>\n",
       "      <td>0.299065</td>\n",
       "      <td>82</td>\n",
       "    </tr>\n",
       "    <tr>\n",
       "      <th>watercraft</th>\n",
       "      <td>0.45122</td>\n",
       "      <td>0.486842</td>\n",
       "      <td>0.468354</td>\n",
       "      <td>76</td>\n",
       "    </tr>\n",
       "    <tr>\n",
       "      <th>__avg / total__</th>\n",
       "      <td>0.501987</td>\n",
       "      <td>0.307692</td>\n",
       "      <td>0.358497</td>\n",
       "      <td>247</td>\n",
       "    </tr>\n",
       "  </tbody>\n",
       "</table>\n",
       "</div>"
      ],
      "text/plain": [
       "                precision    recall  F1_score support\n",
       "Classes                                              \n",
       "_negative_              0       NaN         0       0\n",
       "aircraft         0.418182  0.258427  0.319444      89\n",
       "land vehicle         0.64  0.195122  0.299065      82\n",
       "watercraft        0.45122  0.486842  0.468354      76\n",
       "__avg / total__  0.501987  0.307692  0.358497     247"
      ]
     },
     "execution_count": 20,
     "metadata": {},
     "output_type": "execute_result"
    }
   ],
   "source": [
    "# Weighted classification report\n",
    "classification_report = confusion_matrix.classification_report\n",
    "classification_report"
   ]
  },
  {
   "cell_type": "markdown",
   "metadata": {},
   "source": [
    "## Use sklearn.metrics directly to get more metrics\n",
    "\n",
    "This gives us MCC and accuracy and also allows us to specify \"macro\" or \"weighted\" where applicable."
   ]
  },
  {
   "cell_type": "code",
   "execution_count": 21,
   "metadata": {},
   "outputs": [
    {
     "name": "stderr",
     "output_type": "stream",
     "text": [
      "/anaconda3/lib/python3.6/site-packages/sklearn/metrics/classification.py:1137: UndefinedMetricWarning: Recall is ill-defined and being set to 0.0 in labels with no true samples.\n",
      "  'recall', 'true', average, warn_for)\n",
      "/anaconda3/lib/python3.6/site-packages/sklearn/metrics/classification.py:1137: UndefinedMetricWarning: F-score is ill-defined and being set to 0.0 in labels with no true samples.\n",
      "  'recall', 'true', average, warn_for)\n"
     ]
    }
   ],
   "source": [
    "accuracy = accuracy_score(truth, predicted)\n",
    "\n",
    "average = 'weighted'  # Use 'macro' or 'weighted'\n",
    "precision = precision_score(truth, predicted, average=average)\n",
    "recall = recall_score(truth, predicted, average=average)\n",
    "f1 = f1_score(truth, predicted, average=average)\n",
    "mcc = matthews_corrcoef(truth, predicted)"
   ]
  },
  {
   "cell_type": "markdown",
   "metadata": {},
   "source": [
    "## Combine the overall metrics and write them to a CSV file"
   ]
  },
  {
   "cell_type": "code",
   "execution_count": 22,
   "metadata": {},
   "outputs": [
    {
     "data": {
      "text/html": [
       "<style  type=\"text/css\" >\n",
       "</style>  \n",
       "<table id=\"T_8ed732a6_87da_11e9_89b1_c4b301ca62f1\" > \n",
       "<thead>    <tr> \n",
       "        <th class=\"col_heading level0 col0\" ># of Classes</th> \n",
       "        <th class=\"col_heading level0 col1\" ># of Images</th> \n",
       "        <th class=\"col_heading level0 col2\" >TP</th> \n",
       "        <th class=\"col_heading level0 col3\" >TN</th> \n",
       "        <th class=\"col_heading level0 col4\" >FP</th> \n",
       "        <th class=\"col_heading level0 col5\" >FN</th> \n",
       "        <th class=\"col_heading level0 col6\" >Precision</th> \n",
       "        <th class=\"col_heading level0 col7\" >Recall</th> \n",
       "        <th class=\"col_heading level0 col8\" >Accuracy</th> \n",
       "        <th class=\"col_heading level0 col9\" >F1</th> \n",
       "        <th class=\"col_heading level0 col10\" >MCC</th> \n",
       "    </tr></thead> \n",
       "<tbody>    <tr> \n",
       "        <td id=\"T_8ed732a6_87da_11e9_89b1_c4b301ca62f1row0_col0\" class=\"data row0 col0\" >4</td> \n",
       "        <td id=\"T_8ed732a6_87da_11e9_89b1_c4b301ca62f1row0_col1\" class=\"data row0 col1\" >247</td> \n",
       "        <td id=\"T_8ed732a6_87da_11e9_89b1_c4b301ca62f1row0_col2\" class=\"data row0 col2\" >76</td> \n",
       "        <td id=\"T_8ed732a6_87da_11e9_89b1_c4b301ca62f1row0_col3\" class=\"data row0 col3\" >570</td> \n",
       "        <td id=\"T_8ed732a6_87da_11e9_89b1_c4b301ca62f1row0_col4\" class=\"data row0 col4\" >171</td> \n",
       "        <td id=\"T_8ed732a6_87da_11e9_89b1_c4b301ca62f1row0_col5\" class=\"data row0 col5\" >171</td> \n",
       "        <td id=\"T_8ed732a6_87da_11e9_89b1_c4b301ca62f1row0_col6\" class=\"data row0 col6\" >0.501987</td> \n",
       "        <td id=\"T_8ed732a6_87da_11e9_89b1_c4b301ca62f1row0_col7\" class=\"data row0 col7\" >0.307692</td> \n",
       "        <td id=\"T_8ed732a6_87da_11e9_89b1_c4b301ca62f1row0_col8\" class=\"data row0 col8\" >0.307692</td> \n",
       "        <td id=\"T_8ed732a6_87da_11e9_89b1_c4b301ca62f1row0_col9\" class=\"data row0 col9\" >0.358497</td> \n",
       "        <td id=\"T_8ed732a6_87da_11e9_89b1_c4b301ca62f1row0_col10\" class=\"data row0 col10\" >0.133293</td> \n",
       "    </tr></tbody> \n",
       "</table> "
      ],
      "text/plain": [
       "<pandas.io.formats.style.Styler at 0x10c4a9cf8>"
      ]
     },
     "execution_count": 22,
     "metadata": {},
     "output_type": "execute_result"
    }
   ],
   "source": [
    "summary_csv = OUTPUT_PREFIX + \"_summary.csv\"\n",
    "logger.info(\"Writing stats summary to: \" + summary_csv)\n",
    "\n",
    "# Pull some numbers out of the dataframes shown earlier\n",
    "images = population.iat[-1, -1]\n",
    "classes = class_count.iat[-1, -1]\n",
    "tp = tp_tn_fp_fn['TP: True Positive']['sum']\n",
    "tn = tp_tn_fp_fn['TN: True Negative']['sum']\n",
    "fp = tp_tn_fp_fn['FP: False Positive']['sum']\n",
    "fn = tp_tn_fp_fn['FN: False Negative']['sum']\n",
    "\n",
    "# Combine the metrics in a CSV with a header\n",
    "with open(summary_csv, \"w\") as outfile:\n",
    "    csvwriter = csv.writer(outfile)\n",
    "\n",
    "    first = True\n",
    "    header = ['# of Classes', '# of Images', 'TP', 'TN', 'FP', 'FN', 'Precision', 'Recall', 'Accuracy', 'F1', 'MCC']\n",
    "    row = [classes, images, tp, tn, fp, fn, precision, recall, accuracy, f1, mcc]\n",
    "    csvwriter.writerow(header)\n",
    "    csvwriter.writerow(row)\n",
    "    \n",
    "# Read and show the CSV file.\n",
    "summary = pandas.read_csv(summary_csv) # Preview the CSV file here\n",
    "summary.style.hide_index()"
   ]
  },
  {
   "cell_type": "markdown",
   "metadata": {},
   "source": [
    "<font size=-1 color=gray>\n",
    "<hr>\n",
    "&copy; Copyright 2003,2016,2019 IBM Corp. All Rights Reserved.\n",
    "<p>\n",
    "Licensed under the Apache License, Version 2.0 (the \"License\"); you may not use this file\n",
    "except in compliance with the License. You may obtain a copy of the License at\n",
    "https://www.apache.org/licenses/LICENSE-2.0\n",
    "Unless required by applicable law or agreed to in writing, software distributed under the\n",
    "License is distributed on an \"AS IS\" BASIS, WITHOUT WARRANTIES OR CONDITIONS OF ANY KIND, either\n",
    "express or implied. See the License for the specific language governing permissions and\n",
    "limitations under the License.\n",
    "</font></p>\n"
   ]
  },
  {
   "cell_type": "code",
   "execution_count": null,
   "metadata": {},
   "outputs": [],
   "source": []
  }
 ],
 "metadata": {
  "kernelspec": {
   "display_name": "Python 3",
   "language": "python",
   "name": "python3"
  },
  "language_info": {
   "codemirror_mode": {
    "name": "ipython",
    "version": 3
   },
   "file_extension": ".py",
   "mimetype": "text/x-python",
   "name": "python",
   "nbconvert_exporter": "python",
   "pygments_lexer": "ipython3",
   "version": "3.6.4"
  }
 },
 "nbformat": 4,
 "nbformat_minor": 2
}
